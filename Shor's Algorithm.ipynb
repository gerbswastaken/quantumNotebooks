{
 "cells": [
  {
   "cell_type": "code",
   "execution_count": 1,
   "id": "ad6d578a-7e54-4a33-a5f3-c0966d08d7b6",
   "metadata": {},
   "outputs": [
    {
     "name": "stdout",
     "output_type": "stream",
     "text": [
      "Imports Successful\n"
     ]
    }
   ],
   "source": [
    "import matplotlib.pyplot as plt\n",
    "import numpy as np\n",
    "from qiskit import QuantumCircuit, Aer, transpile, assemble\n",
    "from qiskit.visualization import plot_histogram\n",
    "from math import gcd\n",
    "from numpy.random import randint\n",
    "import pandas as pd\n",
    "from fractions import Fraction\n",
    "print(\"Imports Successful\")"
   ]
  },
  {
   "cell_type": "code",
   "execution_count": 2,
   "id": "62dd5f9a-c0cd-498a-9164-a09968109afe",
   "metadata": {},
   "outputs": [],
   "source": [
    "def c_amod15(a, power):\n",
    "    \"\"\"Controlled multiplication by a mod 15\"\"\"\n",
    "    if a not in [2,4,7,8,11,13]:\n",
    "        raise ValueError(\"'a' must be 2,4,7,8,11 or 13\")\n",
    "    U = QuantumCircuit(4)        \n",
    "    for iteration in range(power):\n",
    "        if a in [2,13]:\n",
    "            U.swap(0,1)\n",
    "            U.swap(1,2)\n",
    "            U.swap(2,3)\n",
    "        if a in [7,8]:\n",
    "            U.swap(2,3)\n",
    "            U.swap(1,2)\n",
    "            U.swap(0,1)\n",
    "        if a in [4, 11]:\n",
    "            U.swap(1,3)\n",
    "            U.swap(0,2)\n",
    "        if a in [7,11,13]:\n",
    "            for q in range(4):\n",
    "                U.x(q)\n",
    "    U = U.to_gate()\n",
    "    U.name = \"%i^%i mod 15\" % (a, power)\n",
    "    c_U = U.control()\n",
    "    return c_U"
   ]
  },
  {
   "cell_type": "code",
   "execution_count": 3,
   "id": "59e96a73-90a1-45b2-9605-b69f1036fb68",
   "metadata": {},
   "outputs": [],
   "source": [
    "def qftDagger(n):\n",
    "    \"\"\"n-qubit QFTdagger the first n qubits in circ\"\"\"\n",
    "    qc = QuantumCircuit(n)\n",
    "    # Don't forget the Swaps!\n",
    "    for qubit in range(n//2):\n",
    "        qc.swap(qubit, n-qubit-1)\n",
    "    for j in range(n):\n",
    "        for m in range(j):\n",
    "            qc.cp(-np.pi/float(2**(j-m)), m, j)\n",
    "        qc.h(j)\n",
    "    qc.name = \"QFT†\"\n",
    "    return qc"
   ]
  },
  {
   "cell_type": "code",
   "execution_count": 10,
   "id": "10426581-4893-4e9d-9837-94d5b7983e35",
   "metadata": {},
   "outputs": [],
   "source": [
    "def qft(n):\n",
    "    qft_circuit = QuantumCircuit(n)\n",
    "    for i in range((n - 1), -1, -1):\n",
    "        qft_circuit.h(i)\n",
    "        for j in range((i - 1), -1, -1):\n",
    "            qft_circuit.cp(np.pi / (2 ** (i - j)), j, i)\n",
    "            qft_circuit.barrier()\n",
    "\n",
    "    for i in range( int(n / 2) ):\n",
    "        qft_circuit.swap(i , (n - 1 - i))\n",
    "        \n",
    "    qft_circuit.barrier()\n",
    "    qft_circuit.name = \"QFT\"\n",
    "    return qft_circuit\n",
    "\n",
    "def qft_dagger(n):\n",
    "    qft_dagger_circuit = QuantumCircuit(n)\n",
    "    \n",
    "    for i in range( int(n / 2) ):\n",
    "        qft_dagger_circuit.swap(i , (n - 1 - i))\n",
    "    \n",
    "    for i in range((n - 1), -1, -1):\n",
    "        for j in range((i - 1), -1, -1):\n",
    "            qft_dagger_circuit.cp(-np.pi / (2 ** (j - i)), i, j)\n",
    "        qft_dagger_circuit.barrier()\n",
    "        qft_dagger_circuit.h(i)\n",
    "\n",
    "        \n",
    "    qft_dagger_circuit.barrier()\n",
    "    qft_dagger_circuit.name = \"QFT†\"\n",
    "    return qft_dagger_circuit\n",
    "\n",
    "def oracle(n):\n",
    "    q_orc = QuantumCircuit(n)\n",
    "    q_orc.name = \"Shor's Oracle\"\n",
    "    return q_orc\n"
   ]
  },
  {
   "cell_type": "code",
   "execution_count": null,
   "id": "1d63ff88-0ee9-495d-aafb-84bd7777433e",
   "metadata": {},
   "outputs": [],
   "source": []
  },
  {
   "cell_type": "code",
   "execution_count": 17,
   "id": "c841ba11-930e-4683-a191-8ebe0c4ce2b7",
   "metadata": {},
   "outputs": [
    {
     "data": {
      "image/png": "[encoded data removed]",
      "text/plain": [
       "<Figure size 989.597x445.48 with 1 Axes>"
      ]
     },
     "execution_count": 17,
     "metadata": {},
     "output_type": "execute_result"
    }
   ],
   "source": [
    "n = 6\n",
    "\n",
    "qCirc = QuantumCircuit(n,n)\n",
    "for i in range(3):\n",
    "    qCirc.h(i)\n",
    "    \n",
    "qCirc.barrier()\n",
    "    \n",
    "qCirc.append(oracle(n), range(n))\n",
    "\n",
    "qCirc.barrier()\n",
    "\n",
    "qCirc.measure([3,4,5], [3,4,5])\n",
    "\n",
    "qCirc.barrier()\n",
    "    \n",
    "qCirc.append(qft(3), range(3))\n",
    "\n",
    "qCirc.barrier()\n",
    "\n",
    "for i in range(3):\n",
    "    qCirc.measure(i,i)\n",
    "\n",
    "qCirc.draw()"
   ]
  },
  {
   "cell_type": "code",
   "execution_count": 1,
   "id": "63dbfd23-a861-4101-9986-0bc290a3e878",
   "metadata": {},
   "outputs": [
    {
     "name": "stdout",
     "output_type": "stream",
     "text": [
      "Traceback \u001b[1;36m(most recent call last)\u001b[0m:\n",
      "\u001b[1;36m  Input \u001b[1;32mIn [1]\u001b[1;36m in \u001b[1;35m<cell line: 1>\u001b[1;36m\u001b[0m\n",
      "\u001b[1;33m    aer_sim = Aer.get_backend('aer_simulator')\u001b[0m\n",
      "\u001b[1;31mNameError\u001b[0m\u001b[1;31m:\u001b[0m name 'Aer' is not defined\n",
      "\n",
      "Use %tb to get the full traceback.\n"
     ]
    },
    {
     "data": {
      "text/html": [
       "\n",
       "<style>\n",
       ".button {\n",
       "  border: none;\n",
       "  color: white;\n",
       "  padding: 4px 8px;\n",
       "  text-align: center;\n",
       "  text-decoration: none;\n",
       "  display: inline-block;\n",
       "  font-size: 12px;\n",
       "  margin: 4px 2px;\n",
       "  transition-duration: 0.2s;\n",
       "  cursor: pointer;\n",
       "}\n",
       ".iqx-button {\n",
       "  background-color: #0f62fe; \n",
       "  color: white; \n",
       "}\n",
       ".iqx-button:hover {\n",
       "  background-color: #0043ce;\n",
       "  color: white;\n",
       "}\n",
       "</style>\n",
       "<a href=\"https://stackoverflow.com/search?q=NameError: name 'Aer' is not defined\" target='_blank'><button class='button iqx-button'>Search for solution online</button></a>\n"
      ],
      "text/plain": [
       "<IPython.core.display.HTML object>"
      ]
     },
     "metadata": {},
     "output_type": "display_data"
    }
   ],
   "source": [
    "aer_sim = Aer.get_backend('aer_simulator')\n",
    "t_qc = transpile(qCirc, aer_sim)\n",
    "qobj = assemble(t_qc)\n",
    "results = aer_sim.run(qobj).result()\n",
    "counts = results.get_counts()\n",
    "plot_histogram(counts)"
   ]
  },
  {
   "cell_type": "code",
   "execution_count": 9,
   "id": "3b545e80-5c6a-4588-a619-5881af3d07d7",
   "metadata": {},
   "outputs": [
    {
     "name": "stdout",
     "output_type": "stream",
     "text": [
      "            Register Output           Phase\n",
      "0  10000000(bin) = 128(dec)  128/256 = 0.50\n",
      "1  00000000(bin) =   0(dec)    0/256 = 0.00\n",
      "2  11000000(bin) = 192(dec)  192/256 = 0.75\n",
      "3  01000000(bin) =  64(dec)   64/256 = 0.25\n"
     ]
    }
   ],
   "source": [
    "rows, measured_phases = [], []\n",
    "for output in counts:\n",
    "    decimal = int(output, 2)  # Convert (base 2) string to decimal\n",
    "    phase = decimal/(2**n_count)  # Find corresponding eigenvalue\n",
    "    measured_phases.append(phase)\n",
    "    # Add these values to the rows in our table:\n",
    "    rows.append([f\"{output}(bin) = {decimal:>3}(dec)\", \n",
    "                 f\"{decimal}/{2**n_count} = {phase:.2f}\"])\n",
    "# Print the rows in a table\n",
    "headers=[\"Register Output\", \"Phase\"]\n",
    "df = pd.DataFrame(rows, columns=headers)\n",
    "print(df)"
   ]
  },
  {
   "cell_type": "code",
   "execution_count": 10,
   "id": "8aca4093-5df3-4d19-b5a4-27c8288b7281",
   "metadata": {},
   "outputs": [
    {
     "name": "stdout",
     "output_type": "stream",
     "text": [
      "   Phase Fraction  Guess for r\n",
      "0   0.50      1/2            2\n",
      "1   0.00      0/1            1\n",
      "2   0.75      3/4            4\n",
      "3   0.25      1/4            4\n"
     ]
    }
   ],
   "source": [
    "rows = []\n",
    "for phase in measured_phases:\n",
    "    frac = Fraction(phase).limit_denominator(15)\n",
    "    rows.append([phase, f\"{frac.numerator}/{frac.denominator}\", frac.denominator])\n",
    "# Print as a table\n",
    "headers=[\"Phase\", \"Fraction\", \"Guess for r\"]\n",
    "df = pd.DataFrame(rows, columns=headers)\n",
    "print(df)"
   ]
  },
  {
   "cell_type": "code",
   "execution_count": null,
   "id": "6336cc69-80ae-4ce1-9d9c-e49b98393f29",
   "metadata": {},
   "outputs": [],
   "source": []
  }
 ],
 "metadata": {
  "kernelspec": {
   "display_name": "Python 3 (ipykernel)",
   "language": "python",
   "name": "python3"
  },
  "language_info": {
   "codemirror_mode": {
    "name": "ipython",
    "version": 3
   },
   "file_extension": ".py",
   "mimetype": "text/x-python",
   "name": "python",
   "nbconvert_exporter": "python",
   "pygments_lexer": "ipython3",
   "version": "3.8.13"
  },
  "widgets": {
   "application/vnd.jupyter.widget-state+json": {
    "state": {},
    "version_major": 2,
    "version_minor": 0
   }
  }
 },
 "nbformat": 4,
 "nbformat_minor": 5
}
