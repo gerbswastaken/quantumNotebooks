{
 "cells": [
  {
   "cell_type": "code",
   "execution_count": 1,
   "id": "af3bc5bb-10f1-401a-ae53-3383a2e734b7",
   "metadata": {},
   "outputs": [
    {
     "name": "stderr",
     "output_type": "stream",
     "text": [
      "/tmp/ipykernel_139/2179033463.py:13: DeprecationWarning: The qiskit.IBMQ entrypoint and the qiskit-ibmq-provider package (accessible from 'qiskit.providers.ibmq`) are deprecated and will be removed in a future release. Instead you should use the qiskit-ibm-provider package which is accessible from 'qiskit_ibm_provider'. You can install it with 'pip install qiskit_ibm_provider'. Just replace 'qiskit.IBMQ' with 'qiskit_ibm_provider.IBMProvider'\n",
      "  provider = IBMQ.load_account()\n"
     ]
    }
   ],
   "source": [
    "import numpy as np\n",
    "import math\n",
    "\n",
    "# Importing standard Qiskit libraries\n",
    "from qiskit import QuantumCircuit, transpile, Aer, IBMQ, assemble\n",
    "from qiskit.tools.jupyter import *\n",
    "from qiskit.visualization import *\n",
    "from ibm_quantum_widgets import *\n",
    "from qiskit.providers.ibmq import least_busy\n",
    "from qiskit.providers.aer import QasmSimulator\n",
    "\n",
    "# Loading your IBM Quantum account(s)\n",
    "provider = IBMQ.load_account()"
   ]
  },
  {
   "cell_type": "code",
   "execution_count": 2,
   "id": "1d3eef0e-d869-41ba-85d3-68688095d3b5",
   "metadata": {},
   "outputs": [],
   "source": [
    "def shader():\n",
    "    q_shader = QuantumCircuit(4)\n",
    "    q_shader.cz(0,2)\n",
    "    q_shader.cz(1,3)\n",
    "\n",
    "    q_shader.x(1)\n",
    "    q_shader.x(3)\n",
    "\n",
    "    # We need to implement our own ccz gate.\n",
    "    q_shader.h(3)\n",
    "    q_shader.ccx(1,2,3)\n",
    "    q_shader.h(3)\n",
    "\n",
    "    q_shader.x(1)\n",
    "    q_shader.x(3)\n",
    "    \n",
    "    q_shader = q_shader.to_gate()\n",
    "    q_shader.name = \"Shader Circuit\"\n",
    "    \n",
    "    return q_shader\n",
    "\n",
    "\n",
    "def shader_counter():\n",
    "    q_shader = QuantumCircuit(5)\n",
    "    # Since we need ccz gates, we have to use H + CCX + H:\n",
    "    q_shader.h(4)\n",
    "    \n",
    "    q_shader.ccx(0,2,4)\n",
    "    q_shader.ccx(1,3,4)\n",
    "\n",
    "    q_shader.x(1)\n",
    "    q_shader.x(3)\n",
    "\n",
    "    # We need to implement our own ccz gate.\n",
    "    q_shader.mcx([1,2,3],4)\n",
    "\n",
    "    q_shader.x(1)\n",
    "    q_shader.x(3)\n",
    "    \n",
    "    q_shader.h(4)\n",
    "    \n",
    "    q_shader = q_shader.to_gate()\n",
    "    q_shader.name = \"Shader\"\n",
    "    \n",
    "    return q_shader\n"
   ]
  },
  {
   "cell_type": "code",
   "execution_count": 3,
   "id": "ad913f05-4dd8-4150-ba89-44290d0b2a80",
   "metadata": {},
   "outputs": [
    {
     "data": {
      "image/png": "[encoded data removed]",
      "text/plain": [
       "<Figure size 621.941x367.889 with 1 Axes>"
      ]
     },
     "execution_count": 3,
     "metadata": {},
     "output_type": "execute_result"
    }
   ],
   "source": [
    "def grover():\n",
    "    q_grover = QuantumCircuit(4)\n",
    "    for i in range(4):\n",
    "        q_grover.h(i)\n",
    "    for i in range(4):\n",
    "        q_grover.x(i)   \n",
    "        \n",
    "    # We need a 3 controlled Z gate.\n",
    "    q_grover.h(3)\n",
    "    q_grover.mcx([0,1,2],3)\n",
    "    q_grover.h(3)\n",
    "    \n",
    "    for i in range(4):\n",
    "        q_grover.x(i)\n",
    "    for i in range(4):\n",
    "        q_grover.h(i)  \n",
    "        \n",
    "    q_grover = q_grover.to_gate()\n",
    "    q_grover.name = \"Grover's Diffuser\"\n",
    "    \n",
    "    return q_grover\n",
    "\n",
    "\n",
    "def grover_counter():\n",
    "    q_grover = QuantumCircuit(5)\n",
    "    for i in range(4):\n",
    "        q_grover.h(i)\n",
    "    for i in range(4):\n",
    "        q_grover.x(i)   \n",
    "        \n",
    "    # We need a 3 controlled Z gate.\n",
    "    q_grover.h(3)\n",
    "    q_grover.mcx([0,1,2,3],4)\n",
    "    q_grover.h(3)\n",
    "    \n",
    "    for i in range(4):\n",
    "        q_grover.x(i)\n",
    "    for i in range(4):\n",
    "        q_grover.h(i)  \n",
    "        \n",
    "    q_grover = q_grover.to_gate()\n",
    "    q_grover.name = \"Grover's Diffuser\"\n",
    "    \n",
    "    return q_grover\n",
    "\n",
    "q_test = QuantumCircuit(4)\n",
    "for i in range(4):\n",
    "    q_test.h(i)\n",
    "for i in range(4):\n",
    "    q_test.x(i)   \n",
    "        \n",
    "# We need a 3 controlled Z gate.\n",
    "q_test.h(3)\n",
    "q_test.h(3)\n",
    "    \n",
    "for i in range(4):\n",
    "    q_test.x(i)\n",
    "for i in range(4):\n",
    "    q_test.h(i)  \n",
    "    \n",
    "q_test.draw()\n",
    "        "
   ]
  },
  {
   "cell_type": "code",
   "execution_count": 4,
   "id": "c7c97c0d-bd9b-4a13-a3fe-a9d65625f572",
   "metadata": {},
   "outputs": [],
   "source": [
    "def get_rightmost_one(gray_code_term, n):\n",
    "    for i in range( (n-1), -1, -1):\n",
    "        if(gray_code_term[i] == '1'):\n",
    "            return i\n",
    "    \n",
    "    return 0\n",
    "\n",
    "\n",
    "def get_second_rightmost_one(gray_code_term, rightmost_term, n):\n",
    "    for i in range( (rightmost_term - 1), -1, -1):\n",
    "        if(gray_code_term[i] == '1'):\n",
    "            return i\n",
    "        \n",
    "    return 0\n",
    "\n",
    "def reverse_string(string):\n",
    "    #print(\"String: \", string)\n",
    "    string = list(string)\n",
    "    string.reverse()\n",
    "    #print(\"String Reverse:\" , string)\n",
    "    #print(\"Return value: \", ''.join(string))\n",
    "    return ''.join(string)\n",
    "\n",
    "def modify_gray(gray_init, n):\n",
    "    gray_final = []\n",
    "    zero_element = ''\n",
    "    for i in range(n):\n",
    "        zero_element = zero_element + '0'\n",
    "    \n",
    "    gray_init.remove(zero_element)\n",
    "    \n",
    "    for i in gray_init:\n",
    "        gray_final.append(reverse_string(i))\n",
    "    \n",
    "    return(gray_final)\n",
    "\n",
    "def generate_gray(n):\n",
    "    if( n == 1 ):\n",
    "        return ['0','1']\n",
    "    \n",
    "    gray_n_minus_one = generate_gray( (n-1) )\n",
    "    gray_n_minus_one_reverse = generate_gray( (n-1) )\n",
    "    gray_n_minus_one_reverse.reverse()\n",
    "    \n",
    "    gray_n_minus_one = ['0' + x for x in gray_n_minus_one]\n",
    "    gray_n_minus_one_reverse = ['1' + x for x in gray_n_minus_one_reverse]\n",
    "    \n",
    "    return gray_n_minus_one + gray_n_minus_one_reverse\n",
    "\n",
    "def get_gray_diff(first, second, n):\n",
    "    diff_index = 0\n",
    "    for i in range(n):\n",
    "        if(first[i] != second[i]):\n",
    "            diff_index = i\n",
    "            break\n",
    "    \n",
    "    return diff_index\n",
    "\n",
    "def qncz(n):\n",
    "    qncz = QuantumCircuit( (n + 1) )\n",
    "    \n",
    "    theta = np.pi / (2**(n - 1))\n",
    "    \n",
    "    gray_code_temp = generate_gray(n)\n",
    "    gray_code = modify_gray(gray_code_temp, n)\n",
    "    \n",
    "    for i in range( len(gray_code) ):\n",
    "        if (i == 0):\n",
    "            current_index = 0\n",
    "            qncz.cp(theta, 0, n)\n",
    "            theta = -theta\n",
    "            continue\n",
    "        \n",
    "        #print(\"Current Iteration: \", i, \"Gray Code: \", gray_code[i])\n",
    "    \n",
    "        changing_index = get_gray_diff(gray_code[ (i - 1) ], gray_code[i], n)\n",
    "        rightmost_index = get_rightmost_one(gray_code[i], n)\n",
    "    \n",
    "        #print(\"changing index: \", changing_index, \" | rightmost index: \", rightmost_index)\n",
    "        #print(\"checking\")\n",
    "    \n",
    "        if(changing_index == rightmost_index):\n",
    "            gray_code_copy = gray_code[i]\n",
    "            target_index = rightmost_index\n",
    "            source_index = get_second_rightmost_one(gray_code[i], rightmost_index, n)\n",
    "            #print(\"* target index: \", target_index, \" | source index: \", source_index)\n",
    "        else:\n",
    "            target_index = rightmost_index\n",
    "            source_index = changing_index\n",
    "            #print(\"target index: \", target_index, \" | source index: \", source_index)\n",
    "    \n",
    "        qncz.cx(source_index, target_index)\n",
    "        qncz.cp(theta, target_index, n)    \n",
    "        theta = -theta\n",
    "\n",
    "    qncz = qncz.to_gate()\n",
    "    qncz.name = \"|%iCZ|\" % n\n",
    "    return qncz\n"
   ]
  },
  {
   "cell_type": "code",
   "execution_count": 5,
   "id": "0368e2b0-ede3-4c5a-9053-6ebc5228dfc7",
   "metadata": {},
   "outputs": [],
   "source": [
    "def shader_counter():\n",
    "    q_shader = QuantumCircuit(5)\n",
    "    # Since we need ccz gates, we have to use H + CCX + H:\n",
    "    q_shader.h(4)\n",
    "    \n",
    "    q_shader.ccx(0,2,4)\n",
    "    q_shader.ccx(1,3,4)\n",
    "\n",
    "    q_shader.x(1)\n",
    "    q_shader.x(3)\n",
    "\n",
    "    # We need to implement our own cccz gate.\n",
    "    q_shader.mcx([1,2,3],4)\n",
    "\n",
    "    q_shader.x(1)\n",
    "    q_shader.x(3)\n",
    "    \n",
    "    q_shader.h(4)\n",
    "    \n",
    "    q_shader = q_shader.to_gate()\n",
    "    q_shader.name = \"|Shader|\"\n",
    "    \n",
    "    return q_shader\n",
    "\n",
    "def grover_counter():\n",
    "    q_grover = QuantumCircuit(5)\n",
    "    for i in range(4):\n",
    "        q_grover.h(i)\n",
    "    for i in range(4):\n",
    "        q_grover.x(i)   \n",
    "        \n",
    "    # We need a 4 controlled Z gate.\n",
    "    q_grover.append(qncz(4), [0,1,2,3,4])\n",
    "    \n",
    "    for i in range(4):\n",
    "        q_grover.x(i)\n",
    "    for i in range(4):\n",
    "        q_grover.h(i)  \n",
    "        \n",
    "    q_grover = q_grover.to_gate()\n",
    "    q_grover.name = \"|Grover|\"\n",
    "    \n",
    "    return q_grover"
   ]
  },
  {
   "cell_type": "code",
   "execution_count": 6,
   "id": "5cfb709f-b024-4c69-ab6d-7b3377ff7c4d",
   "metadata": {},
   "outputs": [],
   "source": [
    "def qft(n):\n",
    "    qft = QuantumCircuit(n)\n",
    "    \n",
    "    for i in range((n-1), -1, -1):\n",
    "        qft.h(i)\n",
    "        for j in range(i):\n",
    "            qft.cp( ((np.pi)/(2**(i-j))), j, i )\n",
    "    \n",
    "    qft.swap(0, (n-1))\n",
    "    \n",
    "    qft = qft.to_gate()\n",
    "    qft.name = \"|QFT|\"\n",
    "    \n",
    "    return qft\n",
    "            \n",
    "def iqft(n):\n",
    "    iqft = QuantumCircuit(n)\n",
    "    \n",
    "    iqft.swap(0, (n-1))\n",
    "    for i in range(n):\n",
    "        for j in range((i-1), -1, -1):\n",
    "            qft.cp( (-(np.pi)/(2**(i-j))), j, i )\n",
    "        qft.h(i)\n",
    "        \n",
    "    \n",
    "    iqft = iqft.to_gate()\n",
    "    iqft.name = \"|iQFT|\"\n",
    "    \n",
    "    return iqft\n",
    "        \n",
    "    "
   ]
  },
  {
   "cell_type": "code",
   "execution_count": 7,
   "id": "dc1c0211-0a7e-456e-86f3-9f91755503ae",
   "metadata": {},
   "outputs": [
    {
     "data": {
      "image/png": "[encoded data removed]",
      "text/plain": [
       "<Figure size 2210.55x785.944 with 1 Axes>"
      ]
     },
     "execution_count": 7,
     "metadata": {},
     "output_type": "execute_result"
    }
   ],
   "source": [
    "n = 4\n",
    "\n",
    "iqft = QuantumCircuit(n)\n",
    "\n",
    "\n",
    "for i in range((n-1), -1, -1):\n",
    "    iqft.h(i)\n",
    "    for j in range(i):\n",
    "        iqft.cp(((np.pi) / (2**(i-j))), j, i)\n",
    "    \n",
    "iqft.swap(0, (n-1))  \n",
    "\n",
    "iqft.barrier()\n",
    "\n",
    "iqft.swap(0, (n-1))    \n",
    "for i in range(n):\n",
    "    for j in range((i-1), -1, -1):\n",
    "        iqft.cp((-(np.pi) / (2**(i-j))), j, i)\n",
    "    iqft.h(i)\n",
    "    \n",
    "\n",
    "\n",
    "iqft.draw()        \n",
    "            "
   ]
  },
  {
   "cell_type": "code",
   "execution_count": 8,
   "id": "0bfc2d05-690a-4f8b-abec-4bebcb285349",
   "metadata": {},
   "outputs": [
    {
     "data": {
      "image/png": "[encoded data removed]",
      "text/plain": [
       "<Figure size 2210.55x1454.83 with 1 Axes>"
      ]
     },
     "execution_count": 8,
     "metadata": {},
     "output_type": "execute_result"
    }
   ],
   "source": [
    "qc = QuantumCircuit(7, 3)\n",
    "\n",
    "for i in range(7):\n",
    "    qc.h(i)\n",
    "    \n",
    "qc.barrier()\n",
    "\n",
    "qc.append(shader_counter(), [0,1,2,3,4])\n",
    "qc.append(grover_counter(), [0,1,2,3,4])\n",
    "\n",
    "qc.barrier()\n",
    "\n",
    "for i in range(2):\n",
    "    qc.append(shader_counter(), [0,1,2,3,5])\n",
    "    qc.append(grover_counter(), [0,1,2,3,5])\n",
    "    \n",
    "qc.barrier()    \n",
    "    \n",
    "for i in range(4):\n",
    "    qc.append(shader_counter(), [0,1,2,3,6])\n",
    "    qc.append(grover_counter(), [0,1,2,3,6])\n",
    "\n",
    "qc.barrier()    \n",
    "\n",
    "qc.append(qft(3), [4,5,6])\n",
    "\n",
    "qc.measure(4,0)\n",
    "qc.measure(5,1)\n",
    "qc.measure(6,2)\n",
    "\n",
    "qc.draw()"
   ]
  },
  {
   "cell_type": "code",
   "execution_count": null,
   "id": "2c163761-1ffd-4cb8-8ecc-b56d2373bc3b",
   "metadata": {
    "tags": []
   },
   "outputs": [
    {
     "name": "stderr",
     "output_type": "stream",
     "text": [
      "ibmqfactory.load_account:WARNING:2023-10-11 14:10:21,906: Credentials are already in use. The existing account in the session will be replaced.\n"
     ]
    },
    {
     "name": "stdout",
     "output_type": "stream",
     "text": [
      "least busy backend:  ibm_nairobi\n",
      "Job Status: job is queued (None)"
     ]
    }
   ],
   "source": [
    "# Running on actual Quantum Hardware:\n",
    "IBMQ.load_account()\n",
    "provider = IBMQ.get_provider(hub='ibm-q')\n",
    "backend = least_busy(provider.backends(filters=lambda x: x.configuration().n_qubits >= (7) and\n",
    "                                   not x.configuration().simulator and x.status().operational==True))\n",
    "print(\"least busy backend: \", backend)\n",
    "\n",
    "# Run our circuit on the least busy backend. Monitor the execution of the job in the queue\n",
    "from qiskit.tools.monitor import job_monitor\n",
    "\n",
    "transpiled_qc = transpile(qc, backend, optimization_level=3)\n",
    "job = backend.run(transpiled_qc)\n",
    "job_monitor(job, interval=2)"
   ]
  },
  {
   "cell_type": "code",
   "execution_count": 35,
   "id": "64bbb8e8-4f46-4af1-8c90-2daadce70985",
   "metadata": {
    "tags": []
   },
   "outputs": [
    {
     "name": "stderr",
     "output_type": "stream",
     "text": [
      "Simulation failed and returned the following error message:\n",
      "ERROR:  [Experiment 0] Circuit circuit-8537 contains invalid instructions {\"gates\": {|Grover|, |Shader|, |QFT|}} for \"statevector\" method.\n"
     ]
    },
    {
     "name": "stdout",
     "output_type": "stream",
     "text": [
      "Traceback \u001b[1;36m(most recent call last)\u001b[0m:\n",
      "  Input \u001b[0;32mIn [35]\u001b[0m in \u001b[0;35m<cell line: 5>\u001b[0m\n",
      "    answer = results.get_counts()\n",
      "  File \u001b[0;32m/opt/conda/lib/python3.8/site-packages/qiskit/result/result.py:269\u001b[0m in \u001b[0;35mget_counts\u001b[0m\n",
      "    exp = self._get_experiment(key)\n",
      "\u001b[1;36m  File \u001b[1;32m/opt/conda/lib/python3.8/site-packages/qiskit/result/result.py:397\u001b[1;36m in \u001b[1;35m_get_experiment\u001b[1;36m\u001b[0m\n",
      "\u001b[1;33m    raise QiskitError(result_status, \", \", exp_status)\u001b[0m\n",
      "\u001b[1;31mQiskitError\u001b[0m\u001b[1;31m:\u001b[0m 'ERROR:  [Experiment 0] Circuit circuit-8537 contains invalid instructions {\"gates\": {|Grover|, |Shader|, |QFT|}} for \"statevector\" method. ,  ERROR: Circuit circuit-8537 contains invalid instructions {\"gates\": {|Grover|, |Shader|, |QFT|}} for \"statevector\" method.'\n",
      "\n",
      "Use %tb to get the full traceback.\n"
     ]
    },
    {
     "data": {
      "text/html": [
       "\n",
       "<style>\n",
       ".button {\n",
       "  border: none;\n",
       "  color: white;\n",
       "  padding: 4px 8px;\n",
       "  text-align: center;\n",
       "  text-decoration: none;\n",
       "  display: inline-block;\n",
       "  font-size: 12px;\n",
       "  margin: 4px 2px;\n",
       "  transition-duration: 0.2s;\n",
       "  cursor: pointer;\n",
       "}\n",
       ".iqx-button {\n",
       "  background-color: #0f62fe; \n",
       "  color: white; \n",
       "}\n",
       ".iqx-button:hover {\n",
       "  background-color: #0043ce;\n",
       "  color: white;\n",
       "}\n",
       "</style>\n",
       "<a href=\"https://stackoverflow.com/search?q=QiskitError: ERROR:  [Experiment 0] Circuit circuit-8537 contains invalid instructions {\"gates\": {|Grover|, |Shader|, |QFT|}} for \"statevector\" method. ,  ERROR: Circuit circuit-8537 contains invalid instructions {\"gates\": {|Grover|, |Shader|, |QFT|}} for \"statevector\" method.\" target='_blank'><button class='button iqx-button'>Search for solution online</button></a>\n"
      ],
      "text/plain": [
       "<IPython.core.display.HTML object>"
      ]
     },
     "metadata": {},
     "output_type": "display_data"
    }
   ],
   "source": [
    "# Running on a simulator:\n",
    "aer_sim = Aer.get_backend('aer_simulator')\n",
    "qobj = assemble(qc, aer_sim)\n",
    "results = aer_sim.run(qobj).result()\n",
    "answer = results.get_counts()\n",
    "\n",
    "plot_histogram(answer)"
   ]
  },
  {
   "cell_type": "code",
   "execution_count": null,
   "id": "e9721179-c1f7-4907-a14f-47a19a7fa40c",
   "metadata": {},
   "outputs": [],
   "source": []
  }
 ],
 "metadata": {
  "kernelspec": {
   "display_name": "Python 3 (ipykernel)",
   "language": "python",
   "name": "python3"
  },
  "language_info": {
   "codemirror_mode": {
    "name": "ipython",
    "version": 3
   },
   "file_extension": ".py",
   "mimetype": "text/x-python",
   "name": "python",
   "nbconvert_exporter": "python",
   "pygments_lexer": "ipython3",
   "version": "3.10.8"
  },
  "widgets": {
   "application/vnd.jupyter.widget-state+json": {
    "state": {
     "0088aa2d3d534855bc9198285cae15fe": {
      "model_module": "@jupyter-widgets/base",
      "model_module_version": "2.0.0",
      "model_name": "LayoutModel",
      "state": {
       "width": "70px"
      }
     },
     "0568f6c2f65e46469fb2cc20b0e30bef": {
      "model_module": "@jupyter-widgets/controls",
      "model_module_version": "2.0.0",
      "model_name": "HTMLModel",
      "state": {
       "layout": "IPY_MODEL_7bcc22dc3fc94df0ab18420f91d4b769",
       "style": "IPY_MODEL_2dc6e974a4be4b43831064a3e626da73",
       "value": "<h5>Message</h5>"
      }
     },
     "096d83de094646849c3d48ad500a451b": {
      "model_module": "@jupyter-widgets/base",
      "model_module_version": "2.0.0",
      "model_name": "LayoutModel",
      "state": {
       "margin": "0px 0px 10px 0px"
      }
     },
     "0e579314cfbd4325967bb866534107f6": {
      "model_module": "@jupyter-widgets/controls",
      "model_module_version": "2.0.0",
      "model_name": "ButtonModel",
      "state": {
       "button_style": "primary",
       "description": "Clear",
       "layout": "IPY_MODEL_a6255f7d9aab45c7a9b703f77347d318",
       "style": "IPY_MODEL_915f4b647a2b461daf07caa2e2376ffd",
       "tooltip": null
      }
     },
     "15d261dfc99d4135a521f564f4573cfa": {
      "model_module": "@jupyter-widgets/base",
      "model_module_version": "2.0.0",
      "model_name": "LayoutModel",
      "state": {
       "width": "95px"
      }
     },
     "1678ba448d744edea39e195262c2455d": {
      "model_module": "@jupyter-widgets/controls",
      "model_module_version": "2.0.0",
      "model_name": "HTMLModel",
      "state": {
       "layout": "IPY_MODEL_e5e76069ef5c47f8930577f633c13654",
       "style": "IPY_MODEL_531ebd3b9c9640eca1d6b1a5e2259706",
       "value": "<h5>Queue</h5>"
      }
     },
     "1d6f4eb3eb444698994bbae4c38622fe": {
      "model_module": "@jupyter-widgets/controls",
      "model_module_version": "2.0.0",
      "model_name": "HTMLStyleModel",
      "state": {
       "description_width": "",
       "font_size": null,
       "text_color": null
      }
     },
     "295e24aa28e94570926661bc4f2c0fac": {
      "model_module": "@jupyter-widgets/controls",
      "model_module_version": "2.0.0",
      "model_name": "HTMLModel",
      "state": {
       "layout": "IPY_MODEL_d4805c03ba714e96aaea9cec038e2226",
       "style": "IPY_MODEL_71d92449fa0f45ae84c086652e811273",
       "value": "<h5>Backend</h5>"
      }
     },
     "2dc6e974a4be4b43831064a3e626da73": {
      "model_module": "@jupyter-widgets/controls",
      "model_module_version": "2.0.0",
      "model_name": "HTMLStyleModel",
      "state": {
       "description_width": "",
       "font_size": null,
       "text_color": null
      }
     },
     "2f855c2aeb3643dc9ac2b9b5457c09e1": {
      "model_module": "@jupyter-widgets/controls",
      "model_module_version": "2.0.0",
      "model_name": "HTMLModel",
      "state": {
       "layout": "IPY_MODEL_aaabc0d824bf481cb5bf2f065c2652c2",
       "style": "IPY_MODEL_5fff558f46a94c8ba219fbeffb76f850",
       "value": "cmkasq6aa7w0008pevx0"
      }
     },
     "3d0b1ab34ed74a149560f81f795fbf31": {
      "model_module": "@jupyter-widgets/controls",
      "model_module_version": "2.0.0",
      "model_name": "HTMLModel",
      "state": {
       "layout": "IPY_MODEL_64df0c86cc95468b82261c482544e824",
       "style": "IPY_MODEL_858c71f616004ae691f7c501a3510d32",
       "value": "ibm_nairobi"
      }
     },
     "4709624a4d224dcc9bb823d4acfaa2ac": {
      "model_module": "@jupyter-widgets/base",
      "model_module_version": "2.0.0",
      "model_name": "LayoutModel",
      "state": {
       "grid_template_areas": "\n                                       \". . . . right \"\n                                        ",
       "grid_template_columns": "20% 20% 20% 20% 20%",
       "width": "100%"
      }
     },
     "47af291c9dcf40c5bc10e4219de25228": {
      "model_module": "@jupyter-widgets/controls",
      "model_module_version": "2.0.0",
      "model_name": "HTMLStyleModel",
      "state": {
       "description_width": "",
       "font_size": null,
       "text_color": null
      }
     },
     "49e6e02f09ce4b53b856cb821333cab7": {
      "model_module": "@jupyter-widgets/base",
      "model_module_version": "2.0.0",
      "model_name": "LayoutModel",
      "state": {
       "margin": "0px 5px 0px 0px",
       "width": "32px"
      }
     },
     "4b9d63aebfd54361a8dd30a2fbc77e10": {
      "model_module": "@jupyter-widgets/base",
      "model_module_version": "2.0.0",
      "model_name": "LayoutModel",
      "state": {}
     },
     "52e7132365174d7a94db3aa8dd61e9cb": {
      "model_module": "@jupyter-widgets/controls",
      "model_module_version": "2.0.0",
      "model_name": "HBoxModel",
      "state": {
       "children": [
        "IPY_MODEL_b7e3f00f88014ba28ff44b0116b43a8b",
        "IPY_MODEL_2f855c2aeb3643dc9ac2b9b5457c09e1",
        "IPY_MODEL_3d0b1ab34ed74a149560f81f795fbf31",
        "IPY_MODEL_fb893814bbce4813b05ef2b05642c7b9",
        "IPY_MODEL_9f062029d1f2471c8340307f41742940",
        "IPY_MODEL_a44ddabd254744b6825dd621b4fdb1a5"
       ],
       "layout": "IPY_MODEL_91548b6e52e5421c9239a3509f5ae588"
      }
     },
     "531ebd3b9c9640eca1d6b1a5e2259706": {
      "model_module": "@jupyter-widgets/controls",
      "model_module_version": "2.0.0",
      "model_name": "HTMLStyleModel",
      "state": {
       "description_width": "",
       "font_size": null,
       "text_color": null
      }
     },
     "535c6fd379254dbfa3487646afdaf7fd": {
      "model_module": "@jupyter-widgets/base",
      "model_module_version": "2.0.0",
      "model_name": "LayoutModel",
      "state": {
       "width": "95px"
      }
     },
     "55f0fc567ec74009b0bc083828948fc2": {
      "model_module": "@jupyter-widgets/controls",
      "model_module_version": "2.0.0",
      "model_name": "HTMLStyleModel",
      "state": {
       "description_width": "",
       "font_size": null,
       "text_color": null
      }
     },
     "5fff558f46a94c8ba219fbeffb76f850": {
      "model_module": "@jupyter-widgets/controls",
      "model_module_version": "2.0.0",
      "model_name": "HTMLStyleModel",
      "state": {
       "description_width": "",
       "font_size": null,
       "text_color": null
      }
     },
     "61b773ae5cc34b89a28e24b67a571f7d": {
      "model_module": "@jupyter-widgets/controls",
      "model_module_version": "2.0.0",
      "model_name": "ButtonStyleModel",
      "state": {
       "button_color": "white",
       "font_family": null,
       "font_size": null,
       "font_style": null,
       "font_variant": null,
       "font_weight": null,
       "text_color": null,
       "text_decoration": null
      }
     },
     "64df0c86cc95468b82261c482544e824": {
      "model_module": "@jupyter-widgets/base",
      "model_module_version": "2.0.0",
      "model_name": "LayoutModel",
      "state": {
       "width": "145px"
      }
     },
     "71d92449fa0f45ae84c086652e811273": {
      "model_module": "@jupyter-widgets/controls",
      "model_module_version": "2.0.0",
      "model_name": "HTMLStyleModel",
      "state": {
       "description_width": "",
       "font_size": null,
       "text_color": null
      }
     },
     "7bcc22dc3fc94df0ab18420f91d4b769": {
      "model_module": "@jupyter-widgets/base",
      "model_module_version": "2.0.0",
      "model_name": "LayoutModel",
      "state": {}
     },
     "7c015969ae1f4118b484ee2e80bfd5e2": {
      "model_module": "@jupyter-widgets/controls",
      "model_module_version": "2.0.0",
      "model_name": "GridBoxModel",
      "state": {
       "children": [
        "IPY_MODEL_0e579314cfbd4325967bb866534107f6"
       ],
       "layout": "IPY_MODEL_4709624a4d224dcc9bb823d4acfaa2ac"
      }
     },
     "858c71f616004ae691f7c501a3510d32": {
      "model_module": "@jupyter-widgets/controls",
      "model_module_version": "2.0.0",
      "model_name": "HTMLStyleModel",
      "state": {
       "description_width": "",
       "font_size": null,
       "text_color": null
      }
     },
     "87236302190e4ad4bce5b812018314a3": {
      "model_module": "@jupyter-widgets/controls",
      "model_module_version": "2.0.0",
      "model_name": "HTMLModel",
      "state": {
       "layout": "IPY_MODEL_be327c92c62b4631a971d18390783082",
       "style": "IPY_MODEL_c2b3ff646ee048d78cb67db83f9c2e94",
       "value": "<h5>Job ID</h5>"
      }
     },
     "91548b6e52e5421c9239a3509f5ae588": {
      "model_module": "@jupyter-widgets/base",
      "model_module_version": "2.0.0",
      "model_name": "LayoutModel",
      "state": {
       "max_width": "700px",
       "min_width": "700px"
      }
     },
     "915f4b647a2b461daf07caa2e2376ffd": {
      "model_module": "@jupyter-widgets/controls",
      "model_module_version": "2.0.0",
      "model_name": "ButtonStyleModel",
      "state": {
       "font_family": null,
       "font_size": null,
       "font_style": null,
       "font_variant": null,
       "font_weight": null,
       "text_color": null,
       "text_decoration": null
      }
     },
     "9239059bef4b499aa59e196159ce8c73": {
      "model_module": "@jupyter-widgets/controls",
      "model_module_version": "2.0.0",
      "model_name": "HTMLStyleModel",
      "state": {
       "description_width": "",
       "font_size": null,
       "text_color": null
      }
     },
     "993407cbc95045dcb4ad967f646c5e03": {
      "model_module": "@jupyter-widgets/base",
      "model_module_version": "2.0.0",
      "model_name": "LayoutModel",
      "state": {
       "margin": "0px 0px 0px 37px",
       "width": "600px"
      }
     },
     "9f062029d1f2471c8340307f41742940": {
      "model_module": "@jupyter-widgets/controls",
      "model_module_version": "2.0.0",
      "model_name": "HTMLModel",
      "state": {
       "layout": "IPY_MODEL_0088aa2d3d534855bc9198285cae15fe",
       "style": "IPY_MODEL_d84576e77a6e425fb001ade1a223b09b",
       "value": "-"
      }
     },
     "a44ddabd254744b6825dd621b4fdb1a5": {
      "model_module": "@jupyter-widgets/controls",
      "model_module_version": "2.0.0",
      "model_name": "HTMLModel",
      "state": {
       "layout": "IPY_MODEL_4b9d63aebfd54361a8dd30a2fbc77e10",
       "style": "IPY_MODEL_1d6f4eb3eb444698994bbae4c38622fe",
       "value": "<p style=white-space:nowrap;>job is queued</p>"
      }
     },
     "a6255f7d9aab45c7a9b703f77347d318": {
      "model_module": "@jupyter-widgets/base",
      "model_module_version": "2.0.0",
      "model_name": "LayoutModel",
      "state": {
       "grid_area": "right",
       "padding": "0px 0px 0px 0px",
       "width": "70px"
      }
     },
     "aaabc0d824bf481cb5bf2f065c2652c2": {
      "model_module": "@jupyter-widgets/base",
      "model_module_version": "2.0.0",
      "model_name": "LayoutModel",
      "state": {
       "width": "190px"
      }
     },
     "b7e3f00f88014ba28ff44b0116b43a8b": {
      "model_module": "@jupyter-widgets/controls",
      "model_module_version": "2.0.0",
      "model_name": "ButtonModel",
      "state": {
       "icon": "close",
       "layout": "IPY_MODEL_49e6e02f09ce4b53b856cb821333cab7",
       "style": "IPY_MODEL_61b773ae5cc34b89a28e24b67a571f7d",
       "tooltip": null
      }
     },
     "be327c92c62b4631a971d18390783082": {
      "model_module": "@jupyter-widgets/base",
      "model_module_version": "2.0.0",
      "model_name": "LayoutModel",
      "state": {
       "width": "190px"
      }
     },
     "c2b3ff646ee048d78cb67db83f9c2e94": {
      "model_module": "@jupyter-widgets/controls",
      "model_module_version": "2.0.0",
      "model_name": "HTMLStyleModel",
      "state": {
       "description_width": "",
       "font_size": null,
       "text_color": null
      }
     },
     "cda39278b1a44241b7466c223871b5d0": {
      "model_module": "@jupyter-widgets/controls",
      "model_module_version": "2.0.0",
      "model_name": "HTMLModel",
      "state": {
       "layout": "IPY_MODEL_096d83de094646849c3d48ad500a451b",
       "style": "IPY_MODEL_55f0fc567ec74009b0bc083828948fc2",
       "value": "<p style='font-family: IBM Plex Sans, Arial, Helvetica, sans-serif; font-size: 20px; font-weight: medium;'>Circuit Properties</p>"
      }
     },
     "d4805c03ba714e96aaea9cec038e2226": {
      "model_module": "@jupyter-widgets/base",
      "model_module_version": "2.0.0",
      "model_name": "LayoutModel",
      "state": {
       "width": "145px"
      }
     },
     "d84576e77a6e425fb001ade1a223b09b": {
      "model_module": "@jupyter-widgets/controls",
      "model_module_version": "2.0.0",
      "model_name": "HTMLStyleModel",
      "state": {
       "description_width": "",
       "font_size": null,
       "text_color": null
      }
     },
     "e5e311c023474bf381d7f9c53ab6f5eb": {
      "model_module": "@jupyter-widgets/controls",
      "model_module_version": "2.0.0",
      "model_name": "HTMLModel",
      "state": {
       "layout": "IPY_MODEL_535c6fd379254dbfa3487646afdaf7fd",
       "style": "IPY_MODEL_9239059bef4b499aa59e196159ce8c73",
       "value": "<h5>Status</h5>"
      }
     },
     "e5e76069ef5c47f8930577f633c13654": {
      "model_module": "@jupyter-widgets/base",
      "model_module_version": "2.0.0",
      "model_name": "LayoutModel",
      "state": {
       "width": "70px"
      }
     },
     "f47f939240114cb0a8fc148971a20e17": {
      "model_module": "@jupyter-widgets/controls",
      "model_module_version": "2.0.0",
      "model_name": "HBoxModel",
      "state": {
       "children": [
        "IPY_MODEL_87236302190e4ad4bce5b812018314a3",
        "IPY_MODEL_295e24aa28e94570926661bc4f2c0fac",
        "IPY_MODEL_e5e311c023474bf381d7f9c53ab6f5eb",
        "IPY_MODEL_1678ba448d744edea39e195262c2455d",
        "IPY_MODEL_0568f6c2f65e46469fb2cc20b0e30bef"
       ],
       "layout": "IPY_MODEL_993407cbc95045dcb4ad967f646c5e03"
      }
     },
     "fb893814bbce4813b05ef2b05642c7b9": {
      "model_module": "@jupyter-widgets/controls",
      "model_module_version": "2.0.0",
      "model_name": "HTMLModel",
      "state": {
       "layout": "IPY_MODEL_15d261dfc99d4135a521f564f4573cfa",
       "style": "IPY_MODEL_47af291c9dcf40c5bc10e4219de25228",
       "value": "QUEUED"
      }
     }
    },
    "version_major": 2,
    "version_minor": 0
   }
  }
 },
 "nbformat": 4,
 "nbformat_minor": 5
}
