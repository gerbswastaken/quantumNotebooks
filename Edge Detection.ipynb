{
 "cells": [
  {
   "cell_type": "code",
   "execution_count": 1,
   "id": "7f15dca6-6272-4390-9927-f202846ec6d7",
   "metadata": {},
   "outputs": [],
   "source": [
    "# Importing standard Qiskit libraries and configuring account\n",
    "from qiskit import *\n",
    "from qiskit import IBMQ\n",
    "from qiskit.compiler import transpile, assemble\n",
    "from qiskit.tools.jupyter import *\n",
    "from qiskit.visualization import *\n",
    "\n",
    "import numpy as np\n",
    "import matplotlib.pyplot as plt\n",
    "from matplotlib import style\n",
    "style.use('bmh')"
   ]
  },
  {
   "cell_type": "code",
   "execution_count": 2,
   "id": "ac9219d1-6a0d-4826-8f8d-07ca702fc36a",
   "metadata": {},
   "outputs": [],
   "source": [
    "def generate_image(q_image_state):\n",
    "    amplitude_mag_sq_sum = 0.0\n",
    "    for c in q_image_state:\n",
    "        amplitude_mag_sq_sum += (np.absolute(c) ** 2)\n",
    "    \n",
    "    normalization_const = np.sqrt(amplitude_mag_sq_sum)\n",
    "    \n",
    "    return normalization_const\n",
    "    \n",
    "    "
   ]
  },
  {
   "cell_type": "code",
   "execution_count": 8,
   "id": "fe61806f-e457-4f1d-87e3-32b4d5ba40a2",
   "metadata": {},
   "outputs": [
    {
     "name": "stdout",
     "output_type": "stream",
     "text": [
      "13.341664064126334\n"
     ]
    }
   ],
   "source": [
    "print(generate_image([1.0 + 1.j, 2.0 - 1.j, 3.0 + 5.j, 4 - 11.j]))"
   ]
  },
  {
   "cell_type": "code",
   "execution_count": 17,
   "id": "5d7743db-93a6-4be1-a299-9f828c84cdc3",
   "metadata": {},
   "outputs": [],
   "source": [
    "# Convert the raw pixel values to probability amplitudes\n",
    "def amplitude_encode(img_data):\n",
    "    \n",
    "    # Calculate the RMS value\n",
    "    rms = np.sqrt(np.sum(np.sum(img_data**2, axis=1)))\n",
    "    \n",
    "    # Create normalized image\n",
    "    image_norm = []\n",
    "    for arr in img_data:\n",
    "        for ele in arr:\n",
    "            image_norm.append(ele / rms)\n",
    "        \n",
    "    # Return the normalized image as a numpy array\n",
    "    return np.array(image_norm)\n",
    "\n",
    "# Get the amplitude ancoded pixel values\n",
    "# Horizontal: Original image\n",
    "image_norm_h = amplitude_encode(image)\n",
    "\n",
    "# Vertical: Transpose of Original image\n",
    "image_norm_v = amplitude_encode(image.T)"
   ]
  },
  {
   "cell_type": "code",
   "execution_count": 18,
   "id": "a5c25202-c910-4ec5-adf0-991ed0df5802",
   "metadata": {},
   "outputs": [],
   "source": [
    "# Initialize some global variable for number of qubits\n",
    "data_qb = 6\n",
    "anc_qb = 1\n",
    "total_qb = data_qb + anc_qb\n",
    "\n",
    "# Initialize the amplitude permutation unitary\n",
    "D2n_1 = np.roll(np.identity(2**total_qb), 1, axis=1)"
   ]
  },
  {
   "cell_type": "code",
   "execution_count": 19,
   "id": "2abd237f-31ce-425e-8446-11d8cb1b8f07",
   "metadata": {},
   "outputs": [
    {
     "data": {
      "image/png": "[encoded data removed]",
      "text/plain": [
       "<Figure size 628.397x445.48 with 1 Axes>"
      ]
     },
     "metadata": {},
     "output_type": "display_data"
    },
    {
     "data": {
      "image/png": "[encoded data removed]",
      "text/plain": [
       "<Figure size 628.397x445.48 with 1 Axes>"
      ]
     },
     "metadata": {},
     "output_type": "display_data"
    }
   ],
   "source": [
    "# Create the circuit for horizontal scan\n",
    "qc_h = QuantumCircuit(total_qb)\n",
    "qc_h.initialize(image_norm_h, range(1, total_qb))\n",
    "qc_h.h(0)\n",
    "qc_h.unitary(D2n_1, range(total_qb))\n",
    "qc_h.h(0)\n",
    "display(qc_h.draw('mpl', fold=-1))\n",
    "\n",
    "# Create the circuit for vertical scan\n",
    "qc_v = QuantumCircuit(total_qb)\n",
    "qc_v.initialize(image_norm_v, range(1, total_qb))\n",
    "qc_v.h(0)\n",
    "qc_v.unitary(D2n_1, range(total_qb))\n",
    "qc_v.h(0)\n",
    "display(qc_v.draw('mpl', fold=-1))\n",
    "\n",
    "# Combine both circuits into a single list\n",
    "circ_list = [qc_h, qc_v]"
   ]
  },
  {
   "cell_type": "code",
   "execution_count": 21,
   "id": "59c4df20-d397-4031-8fe5-a0493e80b04b",
   "metadata": {},
   "outputs": [
    {
     "name": "stdout",
     "output_type": "stream",
     "text": [
      "Horizontal scan statevector:\n",
      "Statevector([ 0.00000000e+00+0.00000000e+00j,\n",
      "              0.00000000e+00+0.00000000e+00j,\n",
      "              0.00000000e+00+0.00000000e+00j,\n",
      "              0.00000000e+00+0.00000000e+00j,\n",
      "              0.00000000e+00+0.00000000e+00j,\n",
      "              0.00000000e+00+0.00000000e+00j,\n",
      "              0.00000000e+00+0.00000000e+00j,\n",
      "              0.00000000e+00+0.00000000e+00j,\n",
      "              0.00000000e+00+0.00000000e+00j,\n",
      "              0.00000000e+00+0.00000000e+00j,\n",
      "              0.00000000e+00+0.00000000e+00j,\n",
      "              0.00000000e+00+0.00000000e+00j,\n",
      "              0.00000000e+00+0.00000000e+00j,\n",
      "              0.00000000e+00+0.00000000e+00j,\n",
      "              0.00000000e+00+0.00000000e+00j,\n",
      "              0.00000000e+00+0.00000000e+00j,\n",
      "              8.98026510e-02-1.09976529e-17j,\n",
      "             -8.98026510e-02+1.09976529e-17j,\n",
      "              1.79605302e-01-1.09976529e-17j,\n",
      "             -1.84434203e-17+1.09976529e-17j,\n",
      "              1.79605302e-01-1.09976529e-17j,\n",
      "             -1.84434203e-17+1.09976529e-17j,\n",
      "              1.79605302e-01-1.09976529e-17j,\n",
      "             -1.84434203e-17+1.09976529e-17j,\n",
      "              1.79605302e-01-1.09976529e-17j,\n",
      "             -1.84434203e-17+1.09976529e-17j,\n",
      "              8.98026510e-02+0.00000000e+00j,\n",
      "              8.98026510e-02+0.00000000e+00j,\n",
      "              0.00000000e+00+0.00000000e+00j,\n",
      "              0.00000000e+00+0.00000000e+00j,\n",
      "              0.00000000e+00+0.00000000e+00j,\n",
      "              0.00000000e+00+0.00000000e+00j,\n",
      "              8.98026510e-02-1.09976529e-17j,\n",
      "             -8.98026510e-02+1.09976529e-17j,\n",
      "              1.79605302e-01-1.09976529e-17j,\n",
      "             -1.84434203e-17+1.09976529e-17j,\n",
      "              1.79605302e-01-1.09976529e-17j,\n",
      "             -1.84434203e-17+1.09976529e-17j,\n",
      "              1.79605302e-01-1.09976529e-17j,\n",
      "             -1.84434203e-17+1.09976529e-17j,\n",
      "              1.79605302e-01-1.09976529e-17j,\n",
      "             -1.84434203e-17+1.09976529e-17j,\n",
      "              1.79605302e-01-1.09976529e-17j,\n",
      "             -1.84434203e-17+1.09976529e-17j,\n",
      "              8.98026510e-02+0.00000000e+00j,\n",
      "              8.98026510e-02+0.00000000e+00j,\n",
      "              0.00000000e+00+0.00000000e+00j,\n",
      "              0.00000000e+00+0.00000000e+00j,\n",
      "              8.98026510e-02-1.09976529e-17j,\n",
      "             -8.98026510e-02+1.09976529e-17j,\n",
      "              1.79605302e-01-1.09976529e-17j,\n",
      "             -1.84434203e-17+1.09976529e-17j,\n",
      "              1.79605302e-01-1.09976529e-17j,\n",
      "             -1.84434203e-17+1.09976529e-17j,\n",
      "              1.79605302e-01-1.09976529e-17j,\n",
      "             -1.84434203e-17+1.09976529e-17j,\n",
      "              1.79605302e-01-1.09976529e-17j,\n",
      "             -1.84434203e-17+1.09976529e-17j,\n",
      "              1.79605302e-01-1.09976529e-17j,\n",
      "             -1.84434203e-17+1.09976529e-17j,\n",
      "              8.98026510e-02+0.00000000e+00j,\n",
      "              8.98026510e-02+0.00000000e+00j,\n",
      "              0.00000000e+00+0.00000000e+00j,\n",
      "              0.00000000e+00+0.00000000e+00j,\n",
      "              8.98026510e-02-1.09976529e-17j,\n",
      "             -8.98026510e-02+1.09976529e-17j,\n",
      "              1.79605302e-01-1.09976529e-17j,\n",
      "             -1.84434203e-17+1.09976529e-17j,\n",
      "              1.79605302e-01-1.09976529e-17j,\n",
      "             -1.84434203e-17+1.09976529e-17j,\n",
      "              1.79605302e-01-1.09976529e-17j,\n",
      "             -1.84434203e-17+1.09976529e-17j,\n",
      "              1.79605302e-01-1.09976529e-17j,\n",
      "             -1.84434203e-17+1.09976529e-17j,\n",
      "              1.79605302e-01-1.09976529e-17j,\n",
      "             -1.84434203e-17+1.09976529e-17j,\n",
      "              8.98026510e-02+0.00000000e+00j,\n",
      "              8.98026510e-02+0.00000000e+00j,\n",
      "              0.00000000e+00+0.00000000e+00j,\n",
      "              0.00000000e+00+0.00000000e+00j,\n",
      "              0.00000000e+00+0.00000000e+00j,\n",
      "              0.00000000e+00+0.00000000e+00j,\n",
      "              0.00000000e+00+0.00000000e+00j,\n",
      "              0.00000000e+00+0.00000000e+00j,\n",
      "              8.98026510e-02-1.09976529e-17j,\n",
      "             -8.98026510e-02+1.09976529e-17j,\n",
      "              1.79605302e-01-1.09976529e-17j,\n",
      "             -1.84434203e-17+1.09976529e-17j,\n",
      "              1.79605302e-01-1.09976529e-17j,\n",
      "             -1.84434203e-17+1.09976529e-17j,\n",
      "              1.79605302e-01-1.09976529e-17j,\n",
      "             -1.84434203e-17+1.09976529e-17j,\n",
      "              8.98026510e-02+0.00000000e+00j,\n",
      "              8.98026510e-02+0.00000000e+00j,\n",
      "              0.00000000e+00+0.00000000e+00j,\n",
      "              0.00000000e+00+0.00000000e+00j,\n",
      "              0.00000000e+00+0.00000000e+00j,\n",
      "              0.00000000e+00+0.00000000e+00j,\n",
      "              0.00000000e+00+0.00000000e+00j,\n",
      "              0.00000000e+00+0.00000000e+00j,\n",
      "              8.98026510e-02-1.09976529e-17j,\n",
      "             -8.98026510e-02+1.09976529e-17j,\n",
      "              1.79605302e-01-1.09976529e-17j,\n",
      "             -1.84434203e-17+1.09976529e-17j,\n",
      "              1.79605302e-01-1.09976529e-17j,\n",
      "             -1.84434203e-17+1.09976529e-17j,\n",
      "              1.79605302e-01-1.09976529e-17j,\n",
      "             -1.84434203e-17+1.09976529e-17j,\n",
      "              8.98026510e-02+0.00000000e+00j,\n",
      "              8.98026510e-02+0.00000000e+00j,\n",
      "              0.00000000e+00+0.00000000e+00j,\n",
      "              0.00000000e+00+0.00000000e+00j,\n",
      "              0.00000000e+00+0.00000000e+00j,\n",
      "              0.00000000e+00+0.00000000e+00j,\n",
      "              0.00000000e+00+0.00000000e+00j,\n",
      "              0.00000000e+00+0.00000000e+00j,\n",
      "              0.00000000e+00+0.00000000e+00j,\n",
      "              0.00000000e+00+0.00000000e+00j,\n",
      "              0.00000000e+00+0.00000000e+00j,\n",
      "              0.00000000e+00+0.00000000e+00j,\n",
      "              0.00000000e+00+0.00000000e+00j,\n",
      "              0.00000000e+00+0.00000000e+00j,\n",
      "              0.00000000e+00+0.00000000e+00j,\n",
      "              0.00000000e+00+0.00000000e+00j,\n",
      "              0.00000000e+00+0.00000000e+00j,\n",
      "              0.00000000e+00+0.00000000e+00j,\n",
      "              0.00000000e+00+0.00000000e+00j,\n",
      "              0.00000000e+00+0.00000000e+00j],\n",
      "            dims=(2, 2, 2, 2, 2, 2, 2))\n",
      "Vertical scan statevector:\n",
      "Statevector([ 0.00000000e+00+0.00000000e+00j,\n",
      "              0.00000000e+00+0.00000000e+00j,\n",
      "              0.00000000e+00+0.00000000e+00j,\n",
      "              0.00000000e+00+0.00000000e+00j,\n",
      "              0.00000000e+00+0.00000000e+00j,\n",
      "              0.00000000e+00+0.00000000e+00j,\n",
      "              0.00000000e+00+0.00000000e+00j,\n",
      "              0.00000000e+00+0.00000000e+00j,\n",
      "              0.00000000e+00+0.00000000e+00j,\n",
      "              0.00000000e+00+0.00000000e+00j,\n",
      "              0.00000000e+00+0.00000000e+00j,\n",
      "              0.00000000e+00+0.00000000e+00j,\n",
      "              0.00000000e+00+0.00000000e+00j,\n",
      "              0.00000000e+00+0.00000000e+00j,\n",
      "              0.00000000e+00+0.00000000e+00j,\n",
      "              0.00000000e+00+0.00000000e+00j,\n",
      "              8.98026510e-02-1.09976529e-17j,\n",
      "             -8.98026510e-02+1.09976529e-17j,\n",
      "              1.79605302e-01-1.09976529e-17j,\n",
      "             -1.84434203e-17+1.09976529e-17j,\n",
      "              1.79605302e-01-1.09976529e-17j,\n",
      "             -1.84434203e-17+1.09976529e-17j,\n",
      "              1.79605302e-01-1.09976529e-17j,\n",
      "             -1.84434203e-17+1.09976529e-17j,\n",
      "              8.98026510e-02+0.00000000e+00j,\n",
      "              8.98026510e-02+0.00000000e+00j,\n",
      "              0.00000000e+00+0.00000000e+00j,\n",
      "              0.00000000e+00+0.00000000e+00j,\n",
      "              0.00000000e+00+0.00000000e+00j,\n",
      "              0.00000000e+00+0.00000000e+00j,\n",
      "              0.00000000e+00+0.00000000e+00j,\n",
      "              0.00000000e+00+0.00000000e+00j,\n",
      "              8.98026510e-02-1.09976529e-17j,\n",
      "             -8.98026510e-02+1.09976529e-17j,\n",
      "              1.79605302e-01-1.09976529e-17j,\n",
      "             -1.84434203e-17+1.09976529e-17j,\n",
      "              1.79605302e-01-1.09976529e-17j,\n",
      "             -1.84434203e-17+1.09976529e-17j,\n",
      "              1.79605302e-01-1.09976529e-17j,\n",
      "             -1.84434203e-17+1.09976529e-17j,\n",
      "              8.98026510e-02+0.00000000e+00j,\n",
      "              8.98026510e-02+0.00000000e+00j,\n",
      "              0.00000000e+00+0.00000000e+00j,\n",
      "              0.00000000e+00+0.00000000e+00j,\n",
      "              0.00000000e+00+0.00000000e+00j,\n",
      "              0.00000000e+00+0.00000000e+00j,\n",
      "              0.00000000e+00+0.00000000e+00j,\n",
      "              0.00000000e+00+0.00000000e+00j,\n",
      "              8.98026510e-02-1.09976529e-17j,\n",
      "             -8.98026510e-02+1.09976529e-17j,\n",
      "              1.79605302e-01-1.09976529e-17j,\n",
      "             -1.84434203e-17+1.09976529e-17j,\n",
      "              1.79605302e-01-1.09976529e-17j,\n",
      "             -1.84434203e-17+1.09976529e-17j,\n",
      "              1.79605302e-01-1.09976529e-17j,\n",
      "             -1.84434203e-17+1.09976529e-17j,\n",
      "              1.79605302e-01-1.09976529e-17j,\n",
      "             -1.84434203e-17+1.09976529e-17j,\n",
      "              1.79605302e-01-1.09976529e-17j,\n",
      "             -1.84434203e-17+1.09976529e-17j,\n",
      "              8.98026510e-02+0.00000000e+00j,\n",
      "              8.98026510e-02+0.00000000e+00j,\n",
      "              0.00000000e+00+0.00000000e+00j,\n",
      "              0.00000000e+00+0.00000000e+00j,\n",
      "              8.98026510e-02-1.09976529e-17j,\n",
      "             -8.98026510e-02+1.09976529e-17j,\n",
      "              1.79605302e-01-1.09976529e-17j,\n",
      "             -1.84434203e-17+1.09976529e-17j,\n",
      "              1.79605302e-01-1.09976529e-17j,\n",
      "             -1.84434203e-17+1.09976529e-17j,\n",
      "              1.79605302e-01-1.09976529e-17j,\n",
      "             -1.84434203e-17+1.09976529e-17j,\n",
      "              1.79605302e-01-1.09976529e-17j,\n",
      "             -1.84434203e-17+1.09976529e-17j,\n",
      "              1.79605302e-01-1.09976529e-17j,\n",
      "             -1.84434203e-17+1.09976529e-17j,\n",
      "              8.98026510e-02+0.00000000e+00j,\n",
      "              8.98026510e-02+0.00000000e+00j,\n",
      "              0.00000000e+00+0.00000000e+00j,\n",
      "              0.00000000e+00+0.00000000e+00j,\n",
      "              8.98026510e-02-1.09976529e-17j,\n",
      "             -8.98026510e-02+1.09976529e-17j,\n",
      "              1.79605302e-01-1.09976529e-17j,\n",
      "             -1.84434203e-17+1.09976529e-17j,\n",
      "              1.79605302e-01-1.09976529e-17j,\n",
      "             -1.84434203e-17+1.09976529e-17j,\n",
      "              1.79605302e-01-1.09976529e-17j,\n",
      "             -1.84434203e-17+1.09976529e-17j,\n",
      "              1.79605302e-01-1.09976529e-17j,\n",
      "             -1.84434203e-17+1.09976529e-17j,\n",
      "              1.79605302e-01-1.09976529e-17j,\n",
      "             -1.84434203e-17+1.09976529e-17j,\n",
      "              8.98026510e-02+0.00000000e+00j,\n",
      "              8.98026510e-02+0.00000000e+00j,\n",
      "              0.00000000e+00+0.00000000e+00j,\n",
      "              0.00000000e+00+0.00000000e+00j,\n",
      "              0.00000000e+00+0.00000000e+00j,\n",
      "              0.00000000e+00+0.00000000e+00j,\n",
      "              8.98026510e-02-1.09976529e-17j,\n",
      "             -8.98026510e-02+1.09976529e-17j,\n",
      "              1.79605302e-01-1.09976529e-17j,\n",
      "             -1.84434203e-17+1.09976529e-17j,\n",
      "              1.79605302e-01-1.09976529e-17j,\n",
      "             -1.84434203e-17+1.09976529e-17j,\n",
      "              1.79605302e-01-1.09976529e-17j,\n",
      "             -1.84434203e-17+1.09976529e-17j,\n",
      "              1.79605302e-01-1.09976529e-17j,\n",
      "             -1.84434203e-17+1.09976529e-17j,\n",
      "              8.98026510e-02+0.00000000e+00j,\n",
      "              8.98026510e-02+0.00000000e+00j,\n",
      "              0.00000000e+00+0.00000000e+00j,\n",
      "              0.00000000e+00+0.00000000e+00j,\n",
      "              0.00000000e+00+0.00000000e+00j,\n",
      "              0.00000000e+00+0.00000000e+00j,\n",
      "              0.00000000e+00+0.00000000e+00j,\n",
      "              0.00000000e+00+0.00000000e+00j,\n",
      "              0.00000000e+00+0.00000000e+00j,\n",
      "              0.00000000e+00+0.00000000e+00j,\n",
      "              0.00000000e+00+0.00000000e+00j,\n",
      "              0.00000000e+00+0.00000000e+00j,\n",
      "              0.00000000e+00+0.00000000e+00j,\n",
      "              0.00000000e+00+0.00000000e+00j,\n",
      "              0.00000000e+00+0.00000000e+00j,\n",
      "              0.00000000e+00+0.00000000e+00j,\n",
      "              0.00000000e+00+0.00000000e+00j,\n",
      "              0.00000000e+00+0.00000000e+00j,\n",
      "              0.00000000e+00+0.00000000e+00j,\n",
      "              0.00000000e+00+0.00000000e+00j],\n",
      "            dims=(2, 2, 2, 2, 2, 2, 2))\n"
     ]
    }
   ],
   "source": [
    "# Simulating the cirucits\n",
    "back = Aer.get_backend('statevector_simulator')\n",
    "results = execute(circ_list, backend=back).result()\n",
    "sv_h = results.get_statevector(qc_h)\n",
    "sv_v = results.get_statevector(qc_v)\n",
    "\n",
    "from qiskit.visualization import array_to_latex\n",
    "print('Horizontal scan statevector:')\n",
    "print(sv_h)\n",
    "print('Vertical scan statevector:')\n",
    "print(sv_v)"
   ]
  },
  {
   "cell_type": "code",
   "execution_count": 22,
   "id": "14df49d1-e196-4025-b902-9e13fb3ffc2b",
   "metadata": {},
   "outputs": [
    {
     "name": "stdout",
     "output_type": "stream",
     "text": [
      "Traceback \u001b[1;36m(most recent call last)\u001b[0m:\n",
      "\u001b[1;36m  Input \u001b[1;32mIn [22]\u001b[1;36m in \u001b[1;35m<cell line: 2>\u001b[1;36m\u001b[0m\n",
      "\u001b[1;33m    edge_scan_sim = edge_scan_h | edge_scan_v\u001b[0m\n",
      "\u001b[1;31mNameError\u001b[0m\u001b[1;31m:\u001b[0m name 'edge_scan_h' is not defined\n",
      "\n",
      "Use %tb to get the full traceback.\n"
     ]
    },
    {
     "data": {
      "text/html": [
       "\n",
       "<style>\n",
       ".button {\n",
       "  border: none;\n",
       "  color: white;\n",
       "  padding: 4px 8px;\n",
       "  text-align: center;\n",
       "  text-decoration: none;\n",
       "  display: inline-block;\n",
       "  font-size: 12px;\n",
       "  margin: 4px 2px;\n",
       "  transition-duration: 0.2s;\n",
       "  cursor: pointer;\n",
       "}\n",
       ".iqx-button {\n",
       "  background-color: #0f62fe; \n",
       "  color: white; \n",
       "}\n",
       ".iqx-button:hover {\n",
       "  background-color: #0043ce;\n",
       "  color: white;\n",
       "}\n",
       "</style>\n",
       "<a href=\"https://stackoverflow.com/search?q=NameError: name 'edge_scan_h' is not defined\" target='_blank'><button class='button iqx-button'>Search for solution online</button></a>\n"
      ],
      "text/plain": [
       "<IPython.core.display.HTML object>"
      ]
     },
     "metadata": {},
     "output_type": "display_data"
    }
   ],
   "source": [
    "# Combining the horizontal and vertical component of the result\n",
    "edge_scan_sim = edge_scan_h | edge_scan_v\n",
    "\n",
    "# Plotting the original and edge-detected images\n",
    "plot_image(image, 'Original image')\n",
    "plot_image(edge_scan_sim, 'Edge Detected image')"
   ]
  },
  {
   "cell_type": "code",
   "execution_count": null,
   "id": "59112e96-4cdc-48d2-b7ff-4f649685be0d",
   "metadata": {},
   "outputs": [],
   "source": []
  }
 ],
 "metadata": {
  "kernelspec": {
   "display_name": "Python 3 (ipykernel)",
   "language": "python",
   "name": "python3"
  },
  "language_info": {
   "codemirror_mode": {
    "name": "ipython",
    "version": 3
   },
   "file_extension": ".py",
   "mimetype": "text/x-python",
   "name": "python",
   "nbconvert_exporter": "python",
   "pygments_lexer": "ipython3",
   "version": "3.10.8"
  },
  "widgets": {
   "application/vnd.jupyter.widget-state+json": {
    "state": {
     "140b866d72ec43e9aca41ac57992e48a": {
      "model_module": "@jupyter-widgets/controls",
      "model_module_version": "2.0.0",
      "model_name": "HTMLModel",
      "state": {
       "layout": "IPY_MODEL_1a57765592f84bdb88486965ae921378",
       "style": "IPY_MODEL_94338fe1de254bac9e9fc445a03a8709",
       "value": "<h5>Backend</h5>"
      }
     },
     "1697e3002b714124bd4a3b270eac1e3a": {
      "model_module": "@jupyter-widgets/base",
      "model_module_version": "2.0.0",
      "model_name": "LayoutModel",
      "state": {
       "width": "190px"
      }
     },
     "182187c864a34a099026be56aa74948d": {
      "model_module": "@jupyter-widgets/base",
      "model_module_version": "2.0.0",
      "model_name": "LayoutModel",
      "state": {
       "margin": "0px 0px 10px 0px"
      }
     },
     "1a57765592f84bdb88486965ae921378": {
      "model_module": "@jupyter-widgets/base",
      "model_module_version": "2.0.0",
      "model_name": "LayoutModel",
      "state": {
       "width": "145px"
      }
     },
     "3245dd5b83ce48009d2f066129fb4e7f": {
      "model_module": "@jupyter-widgets/controls",
      "model_module_version": "2.0.0",
      "model_name": "HTMLStyleModel",
      "state": {
       "description_width": "",
       "font_size": null,
       "text_color": null
      }
     },
     "3d4d3bce3b214a9b8989cb8608deabe6": {
      "model_module": "@jupyter-widgets/controls",
      "model_module_version": "2.0.0",
      "model_name": "HTMLStyleModel",
      "state": {
       "description_width": "",
       "font_size": null,
       "text_color": null
      }
     },
     "4248353a6bd64f6293b5132c44b50aaf": {
      "model_module": "@jupyter-widgets/controls",
      "model_module_version": "2.0.0",
      "model_name": "HTMLModel",
      "state": {
       "layout": "IPY_MODEL_60e2d521b19a48ab8879a27dd57e38ea",
       "style": "IPY_MODEL_6c882b96225f42929255b165202fb55e",
       "value": "<h5>Status</h5>"
      }
     },
     "49d07607eaf94f0e895454cd93ebba25": {
      "model_module": "@jupyter-widgets/base",
      "model_module_version": "2.0.0",
      "model_name": "LayoutModel",
      "state": {
       "grid_area": "right",
       "padding": "0px 0px 0px 0px",
       "width": "70px"
      }
     },
     "5b4809dd7cf5409ba90928ebef10a3d7": {
      "model_module": "@jupyter-widgets/controls",
      "model_module_version": "2.0.0",
      "model_name": "HTMLStyleModel",
      "state": {
       "description_width": "",
       "font_size": null,
       "text_color": null
      }
     },
     "60e2d521b19a48ab8879a27dd57e38ea": {
      "model_module": "@jupyter-widgets/base",
      "model_module_version": "2.0.0",
      "model_name": "LayoutModel",
      "state": {
       "width": "95px"
      }
     },
     "6c882b96225f42929255b165202fb55e": {
      "model_module": "@jupyter-widgets/controls",
      "model_module_version": "2.0.0",
      "model_name": "HTMLStyleModel",
      "state": {
       "description_width": "",
       "font_size": null,
       "text_color": null
      }
     },
     "738a749022bd4ef685e0c1230a303daf": {
      "model_module": "@jupyter-widgets/controls",
      "model_module_version": "2.0.0",
      "model_name": "HTMLModel",
      "state": {
       "layout": "IPY_MODEL_1697e3002b714124bd4a3b270eac1e3a",
       "style": "IPY_MODEL_aae03a35690f4ffb97a1e6e650066f52",
       "value": "<h5>Job ID</h5>"
      }
     },
     "77976343feb44c7fb078e9106e01696a": {
      "model_module": "@jupyter-widgets/controls",
      "model_module_version": "2.0.0",
      "model_name": "GridBoxModel",
      "state": {
       "children": [
        "IPY_MODEL_8c859c438ba546aba5c199e0a18a56ca"
       ],
       "layout": "IPY_MODEL_de5b5624dc7b4633b0b394b1cef3978b"
      }
     },
     "80672795aa894bcf877a8c8ecbc6101c": {
      "model_module": "@jupyter-widgets/controls",
      "model_module_version": "2.0.0",
      "model_name": "HTMLModel",
      "state": {
       "layout": "IPY_MODEL_826fed1c3c3f43b18265aa28355f18e5",
       "style": "IPY_MODEL_5b4809dd7cf5409ba90928ebef10a3d7",
       "value": "<h5>Message</h5>"
      }
     },
     "826fed1c3c3f43b18265aa28355f18e5": {
      "model_module": "@jupyter-widgets/base",
      "model_module_version": "2.0.0",
      "model_name": "LayoutModel",
      "state": {}
     },
     "8c859c438ba546aba5c199e0a18a56ca": {
      "model_module": "@jupyter-widgets/controls",
      "model_module_version": "2.0.0",
      "model_name": "ButtonModel",
      "state": {
       "button_style": "primary",
       "description": "Clear",
       "layout": "IPY_MODEL_49d07607eaf94f0e895454cd93ebba25",
       "style": "IPY_MODEL_c2218b5db2774494b80b3d4df5a9d5c1",
       "tooltip": null
      }
     },
     "94338fe1de254bac9e9fc445a03a8709": {
      "model_module": "@jupyter-widgets/controls",
      "model_module_version": "2.0.0",
      "model_name": "HTMLStyleModel",
      "state": {
       "description_width": "",
       "font_size": null,
       "text_color": null
      }
     },
     "9e4d2f041ee04e49b8c2898d5c72f983": {
      "model_module": "@jupyter-widgets/controls",
      "model_module_version": "2.0.0",
      "model_name": "HBoxModel",
      "state": {
       "children": [
        "IPY_MODEL_738a749022bd4ef685e0c1230a303daf",
        "IPY_MODEL_140b866d72ec43e9aca41ac57992e48a",
        "IPY_MODEL_4248353a6bd64f6293b5132c44b50aaf",
        "IPY_MODEL_bc1cc2c0d50541c28694deeefbf3e0a1",
        "IPY_MODEL_80672795aa894bcf877a8c8ecbc6101c"
       ],
       "layout": "IPY_MODEL_c10e9e8ee66e4256996b1a9733e85881"
      }
     },
     "aae03a35690f4ffb97a1e6e650066f52": {
      "model_module": "@jupyter-widgets/controls",
      "model_module_version": "2.0.0",
      "model_name": "HTMLStyleModel",
      "state": {
       "description_width": "",
       "font_size": null,
       "text_color": null
      }
     },
     "b8773b0544264c0f996e8440d0344d78": {
      "model_module": "@jupyter-widgets/controls",
      "model_module_version": "2.0.0",
      "model_name": "HTMLModel",
      "state": {
       "layout": "IPY_MODEL_182187c864a34a099026be56aa74948d",
       "style": "IPY_MODEL_3d4d3bce3b214a9b8989cb8608deabe6",
       "value": "<p style='font-family: IBM Plex Sans, Arial, Helvetica, sans-serif; font-size: 20px; font-weight: medium;'>Circuit Properties</p>"
      }
     },
     "bc1cc2c0d50541c28694deeefbf3e0a1": {
      "model_module": "@jupyter-widgets/controls",
      "model_module_version": "2.0.0",
      "model_name": "HTMLModel",
      "state": {
       "layout": "IPY_MODEL_e4ef3b6ef2dc4f909ac4326b14189dfc",
       "style": "IPY_MODEL_3245dd5b83ce48009d2f066129fb4e7f",
       "value": "<h5>Queue</h5>"
      }
     },
     "c10e9e8ee66e4256996b1a9733e85881": {
      "model_module": "@jupyter-widgets/base",
      "model_module_version": "2.0.0",
      "model_name": "LayoutModel",
      "state": {
       "margin": "0px 0px 0px 37px",
       "width": "600px"
      }
     },
     "c2218b5db2774494b80b3d4df5a9d5c1": {
      "model_module": "@jupyter-widgets/controls",
      "model_module_version": "2.0.0",
      "model_name": "ButtonStyleModel",
      "state": {
       "font_family": null,
       "font_size": null,
       "font_style": null,
       "font_variant": null,
       "font_weight": null,
       "text_color": null,
       "text_decoration": null
      }
     },
     "de5b5624dc7b4633b0b394b1cef3978b": {
      "model_module": "@jupyter-widgets/base",
      "model_module_version": "2.0.0",
      "model_name": "LayoutModel",
      "state": {
       "grid_template_areas": "\n                                       \". . . . right \"\n                                        ",
       "grid_template_columns": "20% 20% 20% 20% 20%",
       "width": "100%"
      }
     },
     "e4ef3b6ef2dc4f909ac4326b14189dfc": {
      "model_module": "@jupyter-widgets/base",
      "model_module_version": "2.0.0",
      "model_name": "LayoutModel",
      "state": {
       "width": "70px"
      }
     }
    },
    "version_major": 2,
    "version_minor": 0
   }
  }
 },
 "nbformat": 4,
 "nbformat_minor": 5
}
