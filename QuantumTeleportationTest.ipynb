{
 "cells": [
  {
   "cell_type": "code",
   "execution_count": 5,
   "id": "fbeadde9-e6c9-4f7c-93eb-842a47c089c5",
   "metadata": {},
   "outputs": [
    {
     "name": "stderr",
     "output_type": "stream",
     "text": [
      "ibmqfactory.load_account:WARNING:2022-07-03 07:00:11,541: Credentials are already in use. The existing account in the session will be replaced.\n"
     ]
    }
   ],
   "source": [
    "import numpy as np\n",
    "\n",
    "# Importing standard Qiskit libraries\n",
    "from qiskit import QuantumCircuit, transpile, Aer, IBMQ\n",
    "from qiskit.tools.jupyter import *\n",
    "from qiskit.visualization import *\n",
    "from ibm_quantum_widgets import *\n",
    "from qiskit.providers.aer import QasmSimulator\n",
    "\n",
    "from qiskit.quantum_info import *\n",
    "\n",
    "# Loading your IBM Quantum account(s)\n",
    "provider = IBMQ.load_account()"
   ]
  },
  {
   "cell_type": "code",
   "execution_count": 49,
   "id": "b92e0606-0f38-4ce9-9aac-e0f83d1069e4",
   "metadata": {},
   "outputs": [
    {
     "data": {
      "text/plain": [
       "<qiskit.circuit.instructionset.InstructionSet at 0x7fa30ed26cc0>"
      ]
     },
     "execution_count": 49,
     "metadata": {},
     "output_type": "execute_result"
    }
   ],
   "source": [
    "# Charlie handles setting up the entangled state\n",
    "qc_charlie = QuantumCircuit(2,2)\n",
    "\n",
    "qc_charlie.h(1)\n",
    "qc_charlie.cx(1,0)\n"
   ]
  },
  {
   "cell_type": "code",
   "execution_count": 58,
   "id": "0a5deab1-6bba-4cbc-9825-af39cd934c72",
   "metadata": {},
   "outputs": [
    {
     "data": {
      "image/png": "[encoded data removed]",
      "text/plain": [
       "<Figure size 206.852x204.68 with 1 Axes>"
      ]
     },
     "execution_count": 58,
     "metadata": {},
     "output_type": "execute_result"
    }
   ],
   "source": [
    "qc_alice = QuantumCircuit(2,2)\n",
    "message = '11'\n",
    "\n",
    "# Alice Encodes the Message in the entangled state:\n",
    "if message[0] == '1':\n",
    "    qc_alice.z(1)\n",
    "if message[1] == '1':\n",
    "    qc_alice.x(1)\n",
    "\n",
    "qc_alice.draw()"
   ]
  },
  {
   "cell_type": "code",
   "execution_count": 52,
   "id": "11215242-8794-48f2-8ba4-cbb4b947c061",
   "metadata": {},
   "outputs": [
    {
     "data": {
      "image/png": "[encoded data removed]",
      "text/plain": [
       "<Figure size 327.252x204.68 with 1 Axes>"
      ]
     },
     "execution_count": 52,
     "metadata": {},
     "output_type": "execute_result"
    }
   ],
   "source": [
    "qc_bob = QuantumCircuit(2,2)\n",
    "\n",
    "# Bob needs to detangle the entangled state\n",
    "qc_bob.cx(1,0)\n",
    "qc_bob.h(1)\n",
    "\n",
    "# Bob measures the qubits to get the message:\n",
    "qc_bob.measure([0,1], [0,1])\n",
    "\n",
    "qc_bob.draw()\n"
   ]
  },
  {
   "cell_type": "code",
   "execution_count": 59,
   "id": "ae1fba73-20e3-43d9-9547-94bc135b3bef",
   "metadata": {},
   "outputs": [
    {
     "data": {
      "image/png": "[encoded data removed]",
      "text/plain": [
       "<Figure size 568.052x204.68 with 1 Axes>"
      ]
     },
     "execution_count": 59,
     "metadata": {},
     "output_type": "execute_result"
    }
   ],
   "source": [
    "qc_complete = qc_charlie.compose(qc_alice.compose(qc_bob))\n",
    "\n",
    "qc_complete.draw()"
   ]
  },
  {
   "cell_type": "code",
   "execution_count": 60,
   "id": "1fc8c748-f876-4a03-b482-3282486ae0a5",
   "metadata": {},
   "outputs": [
    {
     "data": {
      "text/plain": [
       "{'11': 1024}"
      ]
     },
     "execution_count": 60,
     "metadata": {},
     "output_type": "execute_result"
    }
   ],
   "source": [
    "\n",
    "\n",
    "backend = Aer.get_backend('aer_simulator')\n",
    "\n",
    "backend.run(qc_complete).result().get_counts()"
   ]
  },
  {
   "cell_type": "code",
   "execution_count": null,
   "id": "38e1e407-afe6-4049-abd8-8959e1535540",
   "metadata": {},
   "outputs": [],
   "source": []
  }
 ],
 "metadata": {
  "kernelspec": {
   "display_name": "Python 3 (ipykernel)",
   "language": "python",
   "name": "python3"
  },
  "language_info": {
   "codemirror_mode": {
    "name": "ipython",
    "version": 3
   },
   "file_extension": ".py",
   "mimetype": "text/x-python",
   "name": "python",
   "nbconvert_exporter": "python",
   "pygments_lexer": "ipython3",
   "version": "3.8.13"
  },
  "widgets": {
   "application/vnd.jupyter.widget-state+json": {
    "state": {
     "012ef4a345af434b8b5f05606fb7cceb": {
      "model_module": "@jupyter-widgets/base",
      "model_module_version": "1.2.0",
      "model_name": "LayoutModel",
      "state": {
       "margin": "0px 0px 0px 37px",
       "width": "600px"
      }
     },
     "02c0b8a9458241dcbb52c78f2c6f0ce5": {
      "model_module": "@jupyter-widgets/controls",
      "model_module_version": "1.5.0",
      "model_name": "HTMLModel",
      "state": {
       "layout": "IPY_MODEL_9a7fb3e791db4b1d82caf7f391aeafce",
       "style": "IPY_MODEL_e9f91199da884085902f038f10455259",
       "value": "<h5>Queue</h5>"
      }
     },
     "095da3adc281419eb00ccac8710b7688": {
      "model_module": "@jupyter-widgets/controls",
      "model_module_version": "1.5.0",
      "model_name": "HTMLModel",
      "state": {
       "layout": "IPY_MODEL_1ebf69a4263a470bbdffc0e4df617b5b",
       "style": "IPY_MODEL_95d7bf6c91964b2d8a74e0e06a6c9917",
       "value": "<h5>Status</h5>"
      }
     },
     "1051713d58e9414fbf0dd1c0e67b0a5a": {
      "model_module": "@jupyter-widgets/controls",
      "model_module_version": "1.5.0",
      "model_name": "ButtonModel",
      "state": {
       "button_style": "primary",
       "description": "Clear",
       "layout": "IPY_MODEL_1a837b5df2414d678181a886ff617e54",
       "style": "IPY_MODEL_ca0b7ef1bb5d445491568320b0a5d6a2"
      }
     },
     "136f17c855ae4cf493a8b814786c94b3": {
      "model_module": "@jupyter-widgets/controls",
      "model_module_version": "1.5.0",
      "model_name": "HTMLModel",
      "state": {
       "layout": "IPY_MODEL_4d198505aabf4af69f52271c25ba45f3",
       "style": "IPY_MODEL_291415572da34989b6d5b692a8348da7",
       "value": "<p style='font-family: IBM Plex Sans, Arial, Helvetica, sans-serif; font-size: 20px; font-weight: medium;'>Circuit Properties</p>"
      }
     },
     "152994ed5cc34f2b93c86ab8f7c5b195": {
      "model_module": "@jupyter-widgets/controls",
      "model_module_version": "1.5.0",
      "model_name": "HTMLModel",
      "state": {
       "layout": "IPY_MODEL_399c1c6c9fea45c8887168d12fefe872",
       "style": "IPY_MODEL_ed407365e8fc4d86a0a7ace82bfdb181",
       "value": "<h5>Backend</h5>"
      }
     },
     "1a837b5df2414d678181a886ff617e54": {
      "model_module": "@jupyter-widgets/base",
      "model_module_version": "1.2.0",
      "model_name": "LayoutModel",
      "state": {
       "grid_area": "right",
       "padding": "0px 0px 0px 0px",
       "width": "70px"
      }
     },
     "1b8ef0bd8c924fff8eae450107091888": {
      "model_module": "@jupyter-widgets/base",
      "model_module_version": "1.2.0",
      "model_name": "LayoutModel",
      "state": {}
     },
     "1ebf69a4263a470bbdffc0e4df617b5b": {
      "model_module": "@jupyter-widgets/base",
      "model_module_version": "1.2.0",
      "model_name": "LayoutModel",
      "state": {
       "width": "95px"
      }
     },
     "1ffb6715692f4fe7acb669abeb261161": {
      "model_module": "@jupyter-widgets/controls",
      "model_module_version": "1.5.0",
      "model_name": "DescriptionStyleModel",
      "state": {
       "description_width": ""
      }
     },
     "291415572da34989b6d5b692a8348da7": {
      "model_module": "@jupyter-widgets/controls",
      "model_module_version": "1.5.0",
      "model_name": "DescriptionStyleModel",
      "state": {
       "description_width": ""
      }
     },
     "399c1c6c9fea45c8887168d12fefe872": {
      "model_module": "@jupyter-widgets/base",
      "model_module_version": "1.2.0",
      "model_name": "LayoutModel",
      "state": {
       "width": "145px"
      }
     },
     "48252cde849046aa8c1588d9e85d255d": {
      "model_module": "@jupyter-widgets/controls",
      "model_module_version": "1.5.0",
      "model_name": "GridBoxModel",
      "state": {
       "children": [
        "IPY_MODEL_1051713d58e9414fbf0dd1c0e67b0a5a"
       ],
       "layout": "IPY_MODEL_593bc9d2134a450d915cb27e91b8c7cf"
      }
     },
     "4d198505aabf4af69f52271c25ba45f3": {
      "model_module": "@jupyter-widgets/base",
      "model_module_version": "1.2.0",
      "model_name": "LayoutModel",
      "state": {
       "margin": "0px 0px 10px 0px"
      }
     },
     "593bc9d2134a450d915cb27e91b8c7cf": {
      "model_module": "@jupyter-widgets/base",
      "model_module_version": "1.2.0",
      "model_name": "LayoutModel",
      "state": {
       "grid_template_areas": "\n                                       \". . . . right \"\n                                        ",
       "grid_template_columns": "20% 20% 20% 20% 20%",
       "width": "100%"
      }
     },
     "5b30880d638d4e398d21f48ace68a8a1": {
      "model_module": "@jupyter-widgets/controls",
      "model_module_version": "1.5.0",
      "model_name": "HBoxModel",
      "state": {
       "children": [
        "IPY_MODEL_62f192c0fb074397819ee35a2e73173b",
        "IPY_MODEL_152994ed5cc34f2b93c86ab8f7c5b195",
        "IPY_MODEL_095da3adc281419eb00ccac8710b7688",
        "IPY_MODEL_02c0b8a9458241dcbb52c78f2c6f0ce5",
        "IPY_MODEL_b03324c41e8b441fa0cd027a4dc88973"
       ],
       "layout": "IPY_MODEL_012ef4a345af434b8b5f05606fb7cceb"
      }
     },
     "62f192c0fb074397819ee35a2e73173b": {
      "model_module": "@jupyter-widgets/controls",
      "model_module_version": "1.5.0",
      "model_name": "HTMLModel",
      "state": {
       "layout": "IPY_MODEL_6aa3cd7174f443d19e14f34ece8c270c",
       "style": "IPY_MODEL_768642a7df504ebca79d1aff644b31f6",
       "value": "<h5>Job ID</h5>"
      }
     },
     "6aa3cd7174f443d19e14f34ece8c270c": {
      "model_module": "@jupyter-widgets/base",
      "model_module_version": "1.2.0",
      "model_name": "LayoutModel",
      "state": {
       "width": "190px"
      }
     },
     "768642a7df504ebca79d1aff644b31f6": {
      "model_module": "@jupyter-widgets/controls",
      "model_module_version": "1.5.0",
      "model_name": "DescriptionStyleModel",
      "state": {
       "description_width": ""
      }
     },
     "95d7bf6c91964b2d8a74e0e06a6c9917": {
      "model_module": "@jupyter-widgets/controls",
      "model_module_version": "1.5.0",
      "model_name": "DescriptionStyleModel",
      "state": {
       "description_width": ""
      }
     },
     "9a7fb3e791db4b1d82caf7f391aeafce": {
      "model_module": "@jupyter-widgets/base",
      "model_module_version": "1.2.0",
      "model_name": "LayoutModel",
      "state": {
       "width": "70px"
      }
     },
     "b03324c41e8b441fa0cd027a4dc88973": {
      "model_module": "@jupyter-widgets/controls",
      "model_module_version": "1.5.0",
      "model_name": "HTMLModel",
      "state": {
       "layout": "IPY_MODEL_1b8ef0bd8c924fff8eae450107091888",
       "style": "IPY_MODEL_1ffb6715692f4fe7acb669abeb261161",
       "value": "<h5>Message</h5>"
      }
     },
     "ca0b7ef1bb5d445491568320b0a5d6a2": {
      "model_module": "@jupyter-widgets/controls",
      "model_module_version": "1.5.0",
      "model_name": "ButtonStyleModel",
      "state": {}
     },
     "e9f91199da884085902f038f10455259": {
      "model_module": "@jupyter-widgets/controls",
      "model_module_version": "1.5.0",
      "model_name": "DescriptionStyleModel",
      "state": {
       "description_width": ""
      }
     },
     "ed407365e8fc4d86a0a7ace82bfdb181": {
      "model_module": "@jupyter-widgets/controls",
      "model_module_version": "1.5.0",
      "model_name": "DescriptionStyleModel",
      "state": {
       "description_width": ""
      }
     }
    },
    "version_major": 2,
    "version_minor": 0
   }
  }
 },
 "nbformat": 4,
 "nbformat_minor": 5
}
